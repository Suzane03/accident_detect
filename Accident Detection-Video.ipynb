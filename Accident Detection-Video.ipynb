{
 "cells": [
  {
   "cell_type": "code",
   "execution_count": 1,
   "id": "93c20982",
   "metadata": {},
   "outputs": [
    {
     "name": "stdout",
     "output_type": "stream",
     "text": [
      "Defaulting to user installation because normal site-packages is not writeable\n",
      "Requirement already satisfied: opencv-python in /home/srihithreddy/.local/lib/python3.10/site-packages (4.7.0.72)\n",
      "Requirement already satisfied: numpy>=1.21.2 in /home/srihithreddy/.local/lib/python3.10/site-packages (from opencv-python) (1.23.5)\n",
      "Defaulting to user installation because normal site-packages is not writeable\n",
      "Requirement already satisfied: geocoder in /home/srihithreddy/.local/lib/python3.10/site-packages (1.38.1)\n",
      "Requirement already satisfied: requests in /usr/lib/python3/dist-packages (from geocoder) (2.25.1)\n",
      "Requirement already satisfied: ratelim in /home/srihithreddy/.local/lib/python3.10/site-packages (from geocoder) (0.1.6)\n",
      "Requirement already satisfied: click in /usr/lib/python3/dist-packages (from geocoder) (8.0.3)\n",
      "Requirement already satisfied: six in /usr/lib/python3/dist-packages (from geocoder) (1.16.0)\n",
      "Requirement already satisfied: future in /home/srihithreddy/.local/lib/python3.10/site-packages (from geocoder) (0.18.3)\n",
      "Requirement already satisfied: decorator in /home/srihithreddy/.local/lib/python3.10/site-packages (from ratelim->geocoder) (5.1.1)\n",
      "Defaulting to user installation because normal site-packages is not writeable\n",
      "Requirement already satisfied: pandas in /home/srihithreddy/.local/lib/python3.10/site-packages (2.0.1)\n",
      "Requirement already satisfied: numpy>=1.21.0 in /home/srihithreddy/.local/lib/python3.10/site-packages (from pandas) (1.23.5)\n",
      "Requirement already satisfied: python-dateutil>=2.8.2 in /home/srihithreddy/.local/lib/python3.10/site-packages (from pandas) (2.8.2)\n",
      "Requirement already satisfied: tzdata>=2022.1 in /home/srihithreddy/.local/lib/python3.10/site-packages (from pandas) (2023.3)\n",
      "Requirement already satisfied: pytz>=2020.1 in /usr/lib/python3/dist-packages (from pandas) (2022.1)\n",
      "Requirement already satisfied: six>=1.5 in /usr/lib/python3/dist-packages (from python-dateutil>=2.8.2->pandas) (1.16.0)\n",
      "Defaulting to user installation because normal site-packages is not writeable\n",
      "Requirement already satisfied: geopy in /home/srihithreddy/.local/lib/python3.10/site-packages (2.3.0)\n",
      "Requirement already satisfied: geographiclib<3,>=1.52 in /home/srihithreddy/.local/lib/python3.10/site-packages (from geopy) (2.0)\n",
      "Defaulting to user installation because normal site-packages is not writeable\n",
      "Requirement already satisfied: keras in /home/srihithreddy/.local/lib/python3.10/site-packages (2.12.0)\n",
      "Defaulting to user installation because normal site-packages is not writeable\n",
      "Requirement already satisfied: twilio in /home/srihithreddy/.local/lib/python3.10/site-packages (8.2.1)\n",
      "Requirement already satisfied: aiohttp>=3.8.4 in /home/srihithreddy/.local/lib/python3.10/site-packages (from twilio) (3.8.4)\n",
      "Requirement already satisfied: requests>=2.0.0 in /usr/lib/python3/dist-packages (from twilio) (2.25.1)\n",
      "Requirement already satisfied: PyJWT<3.0.0,>=2.0.0 in /usr/lib/python3/dist-packages (from twilio) (2.3.0)\n",
      "Requirement already satisfied: aiohttp-retry>=2.8.3 in /home/srihithreddy/.local/lib/python3.10/site-packages (from twilio) (2.8.3)\n",
      "Requirement already satisfied: pytz in /usr/lib/python3/dist-packages (from twilio) (2022.1)\n",
      "Requirement already satisfied: multidict<7.0,>=4.5 in /home/srihithreddy/.local/lib/python3.10/site-packages (from aiohttp>=3.8.4->twilio) (6.0.4)\n",
      "Requirement already satisfied: aiosignal>=1.1.2 in /home/srihithreddy/.local/lib/python3.10/site-packages (from aiohttp>=3.8.4->twilio) (1.3.1)\n",
      "Requirement already satisfied: yarl<2.0,>=1.0 in /home/srihithreddy/.local/lib/python3.10/site-packages (from aiohttp>=3.8.4->twilio) (1.9.2)\n",
      "Requirement already satisfied: frozenlist>=1.1.1 in /home/srihithreddy/.local/lib/python3.10/site-packages (from aiohttp>=3.8.4->twilio) (1.3.3)\n",
      "Requirement already satisfied: async-timeout<5.0,>=4.0.0a3 in /home/srihithreddy/.local/lib/python3.10/site-packages (from aiohttp>=3.8.4->twilio) (4.0.2)\n",
      "Requirement already satisfied: charset-normalizer<4.0,>=2.0 in /home/srihithreddy/.local/lib/python3.10/site-packages (from aiohttp>=3.8.4->twilio) (3.1.0)\n",
      "Requirement already satisfied: attrs>=17.3.0 in /home/srihithreddy/.local/lib/python3.10/site-packages (from aiohttp>=3.8.4->twilio) (22.2.0)\n",
      "Requirement already satisfied: idna>=2.0 in /usr/lib/python3/dist-packages (from yarl<2.0,>=1.0->aiohttp>=3.8.4->twilio) (3.3)\n",
      "Defaulting to user installation because normal site-packages is not writeable\n",
      "Requirement already satisfied: scikit-image in /home/srihithreddy/.local/lib/python3.10/site-packages (0.20.0)\n",
      "Requirement already satisfied: scipy>=1.8 in /home/srihithreddy/.local/lib/python3.10/site-packages (from scikit-image) (1.10.1)\n",
      "Requirement already satisfied: networkx>=2.8 in /home/srihithreddy/.local/lib/python3.10/site-packages (from scikit-image) (3.1)\n",
      "Requirement already satisfied: PyWavelets>=1.1.1 in /home/srihithreddy/.local/lib/python3.10/site-packages (from scikit-image) (1.4.1)\n",
      "Requirement already satisfied: imageio>=2.4.1 in /home/srihithreddy/.local/lib/python3.10/site-packages (from scikit-image) (2.29.0)\n",
      "Requirement already satisfied: packaging>=20.0 in /home/srihithreddy/.local/lib/python3.10/site-packages (from scikit-image) (21.3)\n",
      "Requirement already satisfied: lazy_loader>=0.1 in /home/srihithreddy/.local/lib/python3.10/site-packages (from scikit-image) (0.2)\n",
      "Requirement already satisfied: tifffile>=2019.7.26 in /home/srihithreddy/.local/lib/python3.10/site-packages (from scikit-image) (2023.4.12)\n",
      "Requirement already satisfied: numpy>=1.21.1 in /home/srihithreddy/.local/lib/python3.10/site-packages (from scikit-image) (1.23.5)\n",
      "Requirement already satisfied: pillow>=9.0.1 in /home/srihithreddy/.local/lib/python3.10/site-packages (from scikit-image) (9.3.0)\n",
      "Requirement already satisfied: pyparsing!=3.0.5,>=2.0.2 in /usr/lib/python3/dist-packages (from packaging>=20.0->scikit-image) (2.4.7)\n"
     ]
    },
    {
     "name": "stderr",
     "output_type": "stream",
     "text": [
      "2023-05-28 09:01:00.057995: I tensorflow/core/util/port.cc:110] oneDNN custom operations are on. You may see slightly different numerical results due to floating-point round-off errors from different computation orders. To turn them off, set the environment variable `TF_ENABLE_ONEDNN_OPTS=0`.\n",
      "2023-05-28 09:01:00.226178: I tensorflow/tsl/cuda/cudart_stub.cc:28] Could not find cuda drivers on your machine, GPU will not be used.\n",
      "2023-05-28 09:01:03.296887: I tensorflow/tsl/cuda/cudart_stub.cc:28] Could not find cuda drivers on your machine, GPU will not be used.\n",
      "2023-05-28 09:01:03.316376: I tensorflow/core/platform/cpu_feature_guard.cc:182] This TensorFlow binary is optimized to use available CPU instructions in performance-critical operations.\n",
      "To enable the following instructions: AVX2 AVX512F AVX512_VNNI FMA, in other operations, rebuild TensorFlow with the appropriate compiler flags.\n",
      "2023-05-28 09:01:18.698111: W tensorflow/compiler/tf2tensorrt/utils/py_utils.cc:38] TF-TRT Warning: Could not find TensorRT\n"
     ]
    }
   ],
   "source": [
    "import os\n",
    "!pip install opencv-python\n",
    "!pip install geocoder\n",
    "!pip install pandas\n",
    "!pip install geopy\n",
    "!pip install keras\n",
    "!pip install twilio\n",
    "!pip install  scikit-image\n",
    "import cv2     # for capturing videos\n",
    "import math \n",
    "import geocoder\n",
    "import requests\n",
    "%matplotlib inline\n",
    "import pandas as pd\n",
    "from twilio.rest import Client\n",
    "from geopy.geocoders import Nominatim\n",
    "from keras.preprocessing import image   # for preprocessing the images\n",
    "import numpy as np    # for mathematical operations\n",
    "from keras.utils import np_utils\n",
    "from matplotlib import pyplot as plt \n",
    "from skimage.transform import resize   # for resizing images"
   ]
  },
  {
   "cell_type": "code",
   "execution_count": 2,
   "id": "c9d50c3c",
   "metadata": {},
   "outputs": [
    {
     "name": "stdout",
     "output_type": "stream",
     "text": [
      "Done!\n"
     ]
    }
   ],
   "source": [
    "count = 0\n",
    "videoFile = \"Accidents.mp4\"\n",
    "cap = cv2.VideoCapture(videoFile)   # capturing the video from the given path\n",
    "frameRate = cap.get(5) #frame rate\n",
    "x=1\n",
    "while(cap.isOpened()):\n",
    "    frameId = cap.get(1) #current frame number\n",
    "    ret, frame = cap.read()\n",
    "    if (ret != True):\n",
    "        break\n",
    "    if (frameId % math.floor(frameRate) == 0):\n",
    "        filename =\"%d.jpg\" % count;count+=1\n",
    "        cv2.imwrite(filename, frame)\n",
    "cap.release()\n",
    "print (\"Done!\")"
   ]
  },
  {
   "cell_type": "code",
   "execution_count": 3,
   "id": "ed1ec509",
   "metadata": {},
   "outputs": [
    {
     "data": {
      "text/plain": [
       "<matplotlib.image.AxesImage at 0x7fe787394e50>"
      ]
     },
     "execution_count": 3,
     "metadata": {},
     "output_type": "execute_result"
    },
    {
     "data": {
      "image/png": "[encoded data removed]",
      "text/plain": [
       "<Figure size 640x480 with 1 Axes>"
      ]
     },
     "metadata": {},
     "output_type": "display_data"
    }
   ],
   "source": [
    "img = plt.imread('0.jpg')   # reading image using its name\n",
    "plt.imshow(img)"
   ]
  },
  {
   "cell_type": "code",
   "execution_count": 4,
   "id": "9da41986",
   "metadata": {},
   "outputs": [
    {
     "data": {
      "text/html": [
       "<div>\n",
       "<style scoped>\n",
       "    .dataframe tbody tr th:only-of-type {\n",
       "        vertical-align: middle;\n",
       "    }\n",
       "\n",
       "    .dataframe tbody tr th {\n",
       "        vertical-align: top;\n",
       "    }\n",
       "\n",
       "    .dataframe thead th {\n",
       "        text-align: right;\n",
       "    }\n",
       "</style>\n",
       "<table border=\"1\" class=\"dataframe\">\n",
       "  <thead>\n",
       "    <tr style=\"text-align: right;\">\n",
       "      <th></th>\n",
       "      <th>Image_ID</th>\n",
       "      <th>Class</th>\n",
       "    </tr>\n",
       "  </thead>\n",
       "  <tbody>\n",
       "    <tr>\n",
       "      <th>0</th>\n",
       "      <td>0.jpg</td>\n",
       "      <td>1</td>\n",
       "    </tr>\n",
       "    <tr>\n",
       "      <th>1</th>\n",
       "      <td>1.jpg</td>\n",
       "      <td>1</td>\n",
       "    </tr>\n",
       "    <tr>\n",
       "      <th>2</th>\n",
       "      <td>2.jpg</td>\n",
       "      <td>1</td>\n",
       "    </tr>\n",
       "    <tr>\n",
       "      <th>3</th>\n",
       "      <td>3.jpg</td>\n",
       "      <td>1</td>\n",
       "    </tr>\n",
       "    <tr>\n",
       "      <th>4</th>\n",
       "      <td>4.jpg</td>\n",
       "      <td>1</td>\n",
       "    </tr>\n",
       "  </tbody>\n",
       "</table>\n",
       "</div>"
      ],
      "text/plain": [
       "  Image_ID  Class\n",
       "0    0.jpg      1\n",
       "1    1.jpg      1\n",
       "2    2.jpg      1\n",
       "3    3.jpg      1\n",
       "4    4.jpg      1"
      ]
     },
     "execution_count": 4,
     "metadata": {},
     "output_type": "execute_result"
    }
   ],
   "source": [
    "data = pd.read_csv('mapping.csv')     # reading the csv file\n",
    "data.head()"
   ]
  },
  {
   "cell_type": "code",
   "execution_count": 5,
   "id": "39a7f413",
   "metadata": {},
   "outputs": [],
   "source": [
    "X = [ ]     # creating an empty array\n",
    "for img_name in data.Image_ID:\n",
    "    img = plt.imread('' + img_name)\n",
    "    X.append(img)  # storing each image in array X\n",
    "X = np.array(X)    # converting list to array"
   ]
  },
  {
   "cell_type": "code",
   "execution_count": 6,
   "id": "e8119c04",
   "metadata": {},
   "outputs": [],
   "source": [
    "y = data.Class\n",
    "dummy_y = np_utils.to_categorical(y)"
   ]
  },
  {
   "cell_type": "code",
   "execution_count": 7,
   "id": "0f7cf107",
   "metadata": {},
   "outputs": [],
   "source": [
    "image = []\n",
    "for i in range(0,X.shape[0]):\n",
    "    a = resize(X[i], preserve_range=True, output_shape=(224,224)).astype(int)      # reshaping to 224*224*3\n",
    "    image.append(a)\n",
    "X = np.array(image)"
   ]
  },
  {
   "cell_type": "code",
   "execution_count": 8,
   "id": "2555ab63",
   "metadata": {},
   "outputs": [],
   "source": [
    "from keras.applications.vgg16 import preprocess_input\n",
    "X = preprocess_input(X,data_format=None)"
   ]
  },
  {
   "cell_type": "code",
   "execution_count": 9,
   "id": "892c810d",
   "metadata": {},
   "outputs": [
    {
     "name": "stdout",
     "output_type": "stream",
     "text": [
      "Defaulting to user installation because normal site-packages is not writeable\n",
      "Requirement already satisfied: sklearn in /home/srihithreddy/.local/lib/python3.10/site-packages (0.0.post5)\n"
     ]
    }
   ],
   "source": [
    "!pip install sklearn"
   ]
  },
  {
   "cell_type": "code",
   "execution_count": 10,
   "id": "21006e54",
   "metadata": {},
   "outputs": [
    {
     "name": "stdout",
     "output_type": "stream",
     "text": [
      "Defaulting to user installation because normal site-packages is not writeable\n",
      "Requirement already satisfied: scikit-learn in /home/srihithreddy/.local/lib/python3.10/site-packages (1.2.2)\n",
      "Requirement already satisfied: joblib>=1.1.1 in /home/srihithreddy/.local/lib/python3.10/site-packages (from scikit-learn) (1.2.0)\n",
      "Requirement already satisfied: threadpoolctl>=2.0.0 in /home/srihithreddy/.local/lib/python3.10/site-packages (from scikit-learn) (3.1.0)\n",
      "Requirement already satisfied: numpy>=1.17.3 in /home/srihithreddy/.local/lib/python3.10/site-packages (from scikit-learn) (1.23.5)\n",
      "Requirement already satisfied: scipy>=1.3.2 in /home/srihithreddy/.local/lib/python3.10/site-packages (from scikit-learn) (1.10.1)\n"
     ]
    }
   ],
   "source": [
    "!pip install scikit-learn\n",
    "from sklearn.model_selection import train_test_split\n",
    "X_train, X_valid, y_train, y_valid = train_test_split(X, dummy_y, test_size=0.3, random_state=42)"
   ]
  },
  {
   "cell_type": "code",
   "execution_count": 11,
   "id": "af20a283",
   "metadata": {},
   "outputs": [],
   "source": [
    "from keras.models import Sequential\n",
    "from keras.applications.vgg16 import VGG16\n",
    "from keras.layers import Dense, InputLayer, Dropout"
   ]
  },
  {
   "cell_type": "code",
   "execution_count": 12,
   "id": "47d94402",
   "metadata": {},
   "outputs": [
    {
     "name": "stderr",
     "output_type": "stream",
     "text": [
      "2023-05-28 09:02:54.570252: E tensorflow/compiler/xla/stream_executor/cuda/cuda_driver.cc:266] failed call to cuInit: CUDA_ERROR_NO_DEVICE: no CUDA-capable device is detected\n"
     ]
    }
   ],
   "source": [
    "base_model = VGG16(weights='imagenet', include_top=False, input_shape=(224, 224, 3)) "
   ]
  },
  {
   "cell_type": "code",
   "execution_count": 13,
   "id": "fb02ec43",
   "metadata": {},
   "outputs": [
    {
     "name": "stdout",
     "output_type": "stream",
     "text": [
      "5/5 [==============================] - 83s 15s/step\n",
      "3/3 [==============================] - 33s 8s/step\n"
     ]
    },
    {
     "data": {
      "text/plain": [
       "((155, 7, 7, 512), (67, 7, 7, 512))"
      ]
     },
     "execution_count": 13,
     "metadata": {},
     "output_type": "execute_result"
    }
   ],
   "source": [
    "X_train = base_model.predict(X_train)\n",
    "X_valid = base_model.predict(X_valid)\n",
    "X_train.shape, X_valid.shape"
   ]
  },
  {
   "cell_type": "code",
   "execution_count": 14,
   "id": "555111d7",
   "metadata": {},
   "outputs": [],
   "source": [
    "X_train = X_train.reshape(155, 7*7*512)      # converting to 1-D\n",
    "X_valid = X_valid.reshape(67, 7*7*512)"
   ]
  },
  {
   "cell_type": "code",
   "execution_count": 15,
   "id": "5a5a6732",
   "metadata": {},
   "outputs": [],
   "source": [
    "train = X_train/X_train.max()      # centering the data\n",
    "X_valid = X_valid/X_train.max()"
   ]
  },
  {
   "cell_type": "code",
   "execution_count": 16,
   "id": "57001716",
   "metadata": {},
   "outputs": [],
   "source": [
    "model = Sequential()\n",
    "model.add(InputLayer((7*7*512,)))    # input layer\n",
    "model.add(Dense(units=1024, activation='sigmoid')) # hidden layer\n",
    "model.add(Dense(2, activation='softmax'))    # output layer"
   ]
  },
  {
   "cell_type": "code",
   "execution_count": 17,
   "id": "586cff45",
   "metadata": {},
   "outputs": [
    {
     "name": "stdout",
     "output_type": "stream",
     "text": [
      "Model: \"sequential\"\n",
      "_________________________________________________________________\n",
      " Layer (type)                Output Shape              Param #   \n",
      "=================================================================\n",
      " dense (Dense)               (None, 1024)              25691136  \n",
      "                                                                 \n",
      " dense_1 (Dense)             (None, 2)                 2050      \n",
      "                                                                 \n",
      "=================================================================\n",
      "Total params: 25,693,186\n",
      "Trainable params: 25,693,186\n",
      "Non-trainable params: 0\n",
      "_________________________________________________________________\n"
     ]
    }
   ],
   "source": [
    "model.summary()"
   ]
  },
  {
   "cell_type": "code",
   "execution_count": 18,
   "id": "e36420f6",
   "metadata": {},
   "outputs": [],
   "source": [
    "model.compile(loss='categorical_crossentropy', optimizer='adam', metrics=['accuracy'])"
   ]
  },
  {
   "cell_type": "code",
   "execution_count": 19,
   "id": "20e00a1e",
   "metadata": {
    "scrolled": true
   },
   "outputs": [
    {
     "name": "stdout",
     "output_type": "stream",
     "text": [
      "Epoch 1/100\n",
      "5/5 [==============================] - 8s 795ms/step - loss: 0.6142 - accuracy: 0.6710 - val_loss: 1.1979 - val_accuracy: 0.5672\n",
      "Epoch 2/100\n",
      "5/5 [==============================] - 3s 549ms/step - loss: 0.4417 - accuracy: 0.7677 - val_loss: 0.9949 - val_accuracy: 0.6269\n",
      "Epoch 3/100\n",
      "5/5 [==============================] - 3s 510ms/step - loss: 0.3478 - accuracy: 0.8000 - val_loss: 0.8529 - val_accuracy: 0.7015\n",
      "Epoch 4/100\n",
      "5/5 [==============================] - 3s 509ms/step - loss: 0.1840 - accuracy: 0.9097 - val_loss: 0.8770 - val_accuracy: 0.7761\n",
      "Epoch 5/100\n",
      "5/5 [==============================] - 2s 499ms/step - loss: 0.0779 - accuracy: 0.9871 - val_loss: 0.8440 - val_accuracy: 0.7164\n",
      "Epoch 6/100\n",
      "5/5 [==============================] - 2s 499ms/step - loss: 0.0959 - accuracy: 0.9613 - val_loss: 0.8504 - val_accuracy: 0.7015\n",
      "Epoch 7/100\n",
      "5/5 [==============================] - 2s 484ms/step - loss: 0.0452 - accuracy: 0.9935 - val_loss: 0.8075 - val_accuracy: 0.7761\n",
      "Epoch 8/100\n",
      "5/5 [==============================] - 3s 569ms/step - loss: 0.0415 - accuracy: 1.0000 - val_loss: 0.7893 - val_accuracy: 0.7910\n",
      "Epoch 9/100\n",
      "5/5 [==============================] - 3s 576ms/step - loss: 0.0264 - accuracy: 1.0000 - val_loss: 0.7941 - val_accuracy: 0.8060\n",
      "Epoch 10/100\n",
      "5/5 [==============================] - 3s 558ms/step - loss: 0.0219 - accuracy: 1.0000 - val_loss: 0.8149 - val_accuracy: 0.7761\n",
      "Epoch 11/100\n",
      "5/5 [==============================] - 3s 578ms/step - loss: 0.0188 - accuracy: 1.0000 - val_loss: 0.8062 - val_accuracy: 0.7761\n",
      "Epoch 12/100\n",
      "5/5 [==============================] - 3s 582ms/step - loss: 0.0149 - accuracy: 1.0000 - val_loss: 0.8071 - val_accuracy: 0.7910\n",
      "Epoch 13/100\n",
      "5/5 [==============================] - 3s 531ms/step - loss: 0.0142 - accuracy: 1.0000 - val_loss: 0.8081 - val_accuracy: 0.7612\n",
      "Epoch 14/100\n",
      "5/5 [==============================] - 3s 608ms/step - loss: 0.0124 - accuracy: 1.0000 - val_loss: 0.8179 - val_accuracy: 0.7761\n",
      "Epoch 15/100\n",
      "5/5 [==============================] - 3s 615ms/step - loss: 0.0109 - accuracy: 1.0000 - val_loss: 0.8263 - val_accuracy: 0.7761\n",
      "Epoch 16/100\n",
      "5/5 [==============================] - 3s 549ms/step - loss: 0.0101 - accuracy: 1.0000 - val_loss: 0.8308 - val_accuracy: 0.7761\n",
      "Epoch 17/100\n",
      "5/5 [==============================] - 3s 595ms/step - loss: 0.0095 - accuracy: 1.0000 - val_loss: 0.8287 - val_accuracy: 0.7761\n",
      "Epoch 18/100\n",
      "5/5 [==============================] - 3s 539ms/step - loss: 0.0087 - accuracy: 1.0000 - val_loss: 0.8259 - val_accuracy: 0.7761\n",
      "Epoch 19/100\n",
      "5/5 [==============================] - 3s 572ms/step - loss: 0.0081 - accuracy: 1.0000 - val_loss: 0.8262 - val_accuracy: 0.7612\n",
      "Epoch 20/100\n",
      "5/5 [==============================] - 3s 571ms/step - loss: 0.0077 - accuracy: 1.0000 - val_loss: 0.8303 - val_accuracy: 0.7761\n",
      "Epoch 21/100\n",
      "5/5 [==============================] - 3s 630ms/step - loss: 0.0073 - accuracy: 1.0000 - val_loss: 0.8314 - val_accuracy: 0.7612\n",
      "Epoch 22/100\n",
      "5/5 [==============================] - 2s 398ms/step - loss: 0.0068 - accuracy: 1.0000 - val_loss: 0.8335 - val_accuracy: 0.7612\n",
      "Epoch 23/100\n",
      "5/5 [==============================] - 3s 653ms/step - loss: 0.0064 - accuracy: 1.0000 - val_loss: 0.8381 - val_accuracy: 0.7761\n",
      "Epoch 24/100\n",
      "5/5 [==============================] - 3s 626ms/step - loss: 0.0061 - accuracy: 1.0000 - val_loss: 0.8423 - val_accuracy: 0.7761\n",
      "Epoch 25/100\n",
      "5/5 [==============================] - 3s 499ms/step - loss: 0.0057 - accuracy: 1.0000 - val_loss: 0.8445 - val_accuracy: 0.7761\n",
      "Epoch 26/100\n",
      "5/5 [==============================] - 2s 343ms/step - loss: 0.0054 - accuracy: 1.0000 - val_loss: 0.8471 - val_accuracy: 0.7761\n",
      "Epoch 27/100\n",
      "5/5 [==============================] - 2s 334ms/step - loss: 0.0052 - accuracy: 1.0000 - val_loss: 0.8487 - val_accuracy: 0.7761\n",
      "Epoch 28/100\n",
      "5/5 [==============================] - 2s 342ms/step - loss: 0.0049 - accuracy: 1.0000 - val_loss: 0.8485 - val_accuracy: 0.7761\n",
      "Epoch 29/100\n",
      "5/5 [==============================] - 3s 540ms/step - loss: 0.0047 - accuracy: 1.0000 - val_loss: 0.8500 - val_accuracy: 0.7910\n",
      "Epoch 30/100\n",
      "5/5 [==============================] - 3s 648ms/step - loss: 0.0045 - accuracy: 1.0000 - val_loss: 0.8512 - val_accuracy: 0.7910\n",
      "Epoch 31/100\n",
      "5/5 [==============================] - 3s 545ms/step - loss: 0.0043 - accuracy: 1.0000 - val_loss: 0.8534 - val_accuracy: 0.7910\n",
      "Epoch 32/100\n",
      "5/5 [==============================] - 3s 572ms/step - loss: 0.0041 - accuracy: 1.0000 - val_loss: 0.8591 - val_accuracy: 0.7910\n",
      "Epoch 33/100\n",
      "5/5 [==============================] - 3s 541ms/step - loss: 0.0039 - accuracy: 1.0000 - val_loss: 0.8621 - val_accuracy: 0.7910\n",
      "Epoch 34/100\n",
      "5/5 [==============================] - 3s 593ms/step - loss: 0.0037 - accuracy: 1.0000 - val_loss: 0.8631 - val_accuracy: 0.7910\n",
      "Epoch 35/100\n",
      "5/5 [==============================] - 3s 535ms/step - loss: 0.0036 - accuracy: 1.0000 - val_loss: 0.8635 - val_accuracy: 0.7910\n",
      "Epoch 36/100\n",
      "5/5 [==============================] - 3s 699ms/step - loss: 0.0035 - accuracy: 1.0000 - val_loss: 0.8664 - val_accuracy: 0.7910\n",
      "Epoch 37/100\n",
      "5/5 [==============================] - 3s 576ms/step - loss: 0.0033 - accuracy: 1.0000 - val_loss: 0.8671 - val_accuracy: 0.7910\n",
      "Epoch 38/100\n",
      "5/5 [==============================] - 4s 889ms/step - loss: 0.0032 - accuracy: 1.0000 - val_loss: 0.8688 - val_accuracy: 0.7910\n",
      "Epoch 39/100\n",
      "5/5 [==============================] - 4s 808ms/step - loss: 0.0031 - accuracy: 1.0000 - val_loss: 0.8705 - val_accuracy: 0.7910\n",
      "Epoch 40/100\n",
      "5/5 [==============================] - 3s 694ms/step - loss: 0.0030 - accuracy: 1.0000 - val_loss: 0.8726 - val_accuracy: 0.7910\n",
      "Epoch 41/100\n",
      "5/5 [==============================] - 3s 736ms/step - loss: 0.0028 - accuracy: 1.0000 - val_loss: 0.8747 - val_accuracy: 0.7910\n",
      "Epoch 42/100\n",
      "5/5 [==============================] - 3s 662ms/step - loss: 0.0028 - accuracy: 1.0000 - val_loss: 0.8788 - val_accuracy: 0.7910\n",
      "Epoch 43/100\n",
      "5/5 [==============================] - 3s 654ms/step - loss: 0.0026 - accuracy: 1.0000 - val_loss: 0.8801 - val_accuracy: 0.7910\n",
      "Epoch 44/100\n",
      "5/5 [==============================] - 3s 562ms/step - loss: 0.0026 - accuracy: 1.0000 - val_loss: 0.8820 - val_accuracy: 0.7910\n",
      "Epoch 45/100\n",
      "5/5 [==============================] - 3s 513ms/step - loss: 0.0025 - accuracy: 1.0000 - val_loss: 0.8840 - val_accuracy: 0.7910\n",
      "Epoch 46/100\n",
      "5/5 [==============================] - 2s 505ms/step - loss: 0.0024 - accuracy: 1.0000 - val_loss: 0.8871 - val_accuracy: 0.7910\n",
      "Epoch 47/100\n",
      "5/5 [==============================] - 3s 517ms/step - loss: 0.0023 - accuracy: 1.0000 - val_loss: 0.8888 - val_accuracy: 0.7910\n",
      "Epoch 48/100\n",
      "5/5 [==============================] - 2s 496ms/step - loss: 0.0022 - accuracy: 1.0000 - val_loss: 0.8893 - val_accuracy: 0.7910\n",
      "Epoch 49/100\n",
      "5/5 [==============================] - 3s 545ms/step - loss: 0.0022 - accuracy: 1.0000 - val_loss: 0.8911 - val_accuracy: 0.7910\n",
      "Epoch 50/100\n",
      "5/5 [==============================] - 3s 546ms/step - loss: 0.0021 - accuracy: 1.0000 - val_loss: 0.8923 - val_accuracy: 0.7910\n",
      "Epoch 51/100\n",
      "5/5 [==============================] - 3s 556ms/step - loss: 0.0020 - accuracy: 1.0000 - val_loss: 0.8946 - val_accuracy: 0.7910\n",
      "Epoch 52/100\n",
      "5/5 [==============================] - 3s 565ms/step - loss: 0.0020 - accuracy: 1.0000 - val_loss: 0.8972 - val_accuracy: 0.7910\n",
      "Epoch 53/100\n",
      "5/5 [==============================] - 3s 551ms/step - loss: 0.0019 - accuracy: 1.0000 - val_loss: 0.8983 - val_accuracy: 0.7910\n",
      "Epoch 54/100\n",
      "5/5 [==============================] - 3s 558ms/step - loss: 0.0019 - accuracy: 1.0000 - val_loss: 0.9002 - val_accuracy: 0.7910\n",
      "Epoch 55/100\n",
      "5/5 [==============================] - 3s 551ms/step - loss: 0.0018 - accuracy: 1.0000 - val_loss: 0.9019 - val_accuracy: 0.7910\n",
      "Epoch 56/100\n",
      "5/5 [==============================] - 3s 594ms/step - loss: 0.0018 - accuracy: 1.0000 - val_loss: 0.9039 - val_accuracy: 0.7910\n",
      "Epoch 57/100\n",
      "5/5 [==============================] - 3s 576ms/step - loss: 0.0017 - accuracy: 1.0000 - val_loss: 0.9041 - val_accuracy: 0.7910\n",
      "Epoch 58/100\n",
      "5/5 [==============================] - 3s 660ms/step - loss: 0.0017 - accuracy: 1.0000 - val_loss: 0.9060 - val_accuracy: 0.7910\n",
      "Epoch 59/100\n",
      "5/5 [==============================] - 3s 588ms/step - loss: 0.0016 - accuracy: 1.0000 - val_loss: 0.9078 - val_accuracy: 0.7910\n",
      "Epoch 60/100\n",
      "5/5 [==============================] - 3s 603ms/step - loss: 0.0016 - accuracy: 1.0000 - val_loss: 0.9099 - val_accuracy: 0.7910\n",
      "Epoch 61/100\n",
      "5/5 [==============================] - 3s 579ms/step - loss: 0.0015 - accuracy: 1.0000 - val_loss: 0.9105 - val_accuracy: 0.8060\n",
      "Epoch 62/100\n",
      "5/5 [==============================] - 3s 614ms/step - loss: 0.0015 - accuracy: 1.0000 - val_loss: 0.9125 - val_accuracy: 0.8060\n",
      "Epoch 63/100\n",
      "5/5 [==============================] - 3s 602ms/step - loss: 0.0015 - accuracy: 1.0000 - val_loss: 0.9147 - val_accuracy: 0.8060\n",
      "Epoch 64/100\n",
      "5/5 [==============================] - 3s 534ms/step - loss: 0.0014 - accuracy: 1.0000 - val_loss: 0.9160 - val_accuracy: 0.8060\n",
      "Epoch 65/100\n",
      "5/5 [==============================] - 4s 780ms/step - loss: 0.0014 - accuracy: 1.0000 - val_loss: 0.9184 - val_accuracy: 0.8060\n",
      "Epoch 66/100\n",
      "5/5 [==============================] - 4s 789ms/step - loss: 0.0013 - accuracy: 1.0000 - val_loss: 0.9204 - val_accuracy: 0.8060\n",
      "Epoch 67/100\n",
      "5/5 [==============================] - 3s 536ms/step - loss: 0.0013 - accuracy: 1.0000 - val_loss: 0.9213 - val_accuracy: 0.8060\n",
      "Epoch 68/100\n",
      "5/5 [==============================] - 2s 458ms/step - loss: 0.0013 - accuracy: 1.0000 - val_loss: 0.9226 - val_accuracy: 0.8060\n",
      "Epoch 69/100\n",
      "5/5 [==============================] - 2s 410ms/step - loss: 0.0013 - accuracy: 1.0000 - val_loss: 0.9247 - val_accuracy: 0.8060\n",
      "Epoch 70/100\n",
      "5/5 [==============================] - 2s 363ms/step - loss: 0.0012 - accuracy: 1.0000 - val_loss: 0.9261 - val_accuracy: 0.8060\n",
      "Epoch 71/100\n",
      "5/5 [==============================] - 2s 402ms/step - loss: 0.0012 - accuracy: 1.0000 - val_loss: 0.9268 - val_accuracy: 0.8060\n",
      "Epoch 72/100\n",
      "5/5 [==============================] - 3s 557ms/step - loss: 0.0012 - accuracy: 1.0000 - val_loss: 0.9287 - val_accuracy: 0.8060\n",
      "Epoch 73/100\n",
      "5/5 [==============================] - 3s 608ms/step - loss: 0.0011 - accuracy: 1.0000 - val_loss: 0.9295 - val_accuracy: 0.8060\n",
      "Epoch 74/100\n",
      "5/5 [==============================] - 3s 590ms/step - loss: 0.0011 - accuracy: 1.0000 - val_loss: 0.9309 - val_accuracy: 0.8209\n",
      "Epoch 75/100\n",
      "5/5 [==============================] - 3s 618ms/step - loss: 0.0011 - accuracy: 1.0000 - val_loss: 0.9328 - val_accuracy: 0.8209\n",
      "Epoch 76/100\n",
      "5/5 [==============================] - 3s 712ms/step - loss: 0.0011 - accuracy: 1.0000 - val_loss: 0.9343 - val_accuracy: 0.8060\n",
      "Epoch 77/100\n",
      "5/5 [==============================] - 3s 637ms/step - loss: 0.0010 - accuracy: 1.0000 - val_loss: 0.9355 - val_accuracy: 0.8060\n",
      "Epoch 78/100\n",
      "5/5 [==============================] - 3s 630ms/step - loss: 0.0010 - accuracy: 1.0000 - val_loss: 0.9377 - val_accuracy: 0.8060\n",
      "Epoch 79/100\n",
      "5/5 [==============================] - 3s 589ms/step - loss: 0.0010 - accuracy: 1.0000 - val_loss: 0.9380 - val_accuracy: 0.8209\n",
      "Epoch 80/100\n",
      "5/5 [==============================] - 3s 577ms/step - loss: 9.7964e-04 - accuracy: 1.0000 - val_loss: 0.9398 - val_accuracy: 0.8060\n",
      "Epoch 81/100\n",
      "5/5 [==============================] - 3s 479ms/step - loss: 9.5950e-04 - accuracy: 1.0000 - val_loss: 0.9405 - val_accuracy: 0.8209\n",
      "Epoch 82/100\n",
      "5/5 [==============================] - 3s 552ms/step - loss: 9.4033e-04 - accuracy: 1.0000 - val_loss: 0.9411 - val_accuracy: 0.8209\n",
      "Epoch 83/100\n",
      "5/5 [==============================] - 3s 517ms/step - loss: 9.2083e-04 - accuracy: 1.0000 - val_loss: 0.9432 - val_accuracy: 0.8209\n",
      "Epoch 84/100\n",
      "5/5 [==============================] - 2s 490ms/step - loss: 9.0332e-04 - accuracy: 1.0000 - val_loss: 0.9448 - val_accuracy: 0.8209\n",
      "Epoch 85/100\n",
      "5/5 [==============================] - 3s 541ms/step - loss: 8.8503e-04 - accuracy: 1.0000 - val_loss: 0.9460 - val_accuracy: 0.8209\n",
      "Epoch 86/100\n",
      "5/5 [==============================] - 3s 581ms/step - loss: 8.6699e-04 - accuracy: 1.0000 - val_loss: 0.9469 - val_accuracy: 0.8209\n",
      "Epoch 87/100\n",
      "5/5 [==============================] - 2s 483ms/step - loss: 8.5288e-04 - accuracy: 1.0000 - val_loss: 0.9473 - val_accuracy: 0.8209\n",
      "Epoch 88/100\n",
      "5/5 [==============================] - 3s 669ms/step - loss: 8.3501e-04 - accuracy: 1.0000 - val_loss: 0.9489 - val_accuracy: 0.8209\n",
      "Epoch 89/100\n",
      "5/5 [==============================] - 5s 1s/step - loss: 8.1867e-04 - accuracy: 1.0000 - val_loss: 0.9505 - val_accuracy: 0.8209\n",
      "Epoch 90/100\n",
      "5/5 [==============================] - 2s 449ms/step - loss: 8.0294e-04 - accuracy: 1.0000 - val_loss: 0.9517 - val_accuracy: 0.8209\n",
      "Epoch 91/100\n",
      "5/5 [==============================] - 2s 364ms/step - loss: 7.8787e-04 - accuracy: 1.0000 - val_loss: 0.9535 - val_accuracy: 0.8209\n",
      "Epoch 92/100\n",
      "5/5 [==============================] - 2s 501ms/step - loss: 7.7456e-04 - accuracy: 1.0000 - val_loss: 0.9549 - val_accuracy: 0.8209\n",
      "Epoch 93/100\n",
      "5/5 [==============================] - 3s 563ms/step - loss: 7.6047e-04 - accuracy: 1.0000 - val_loss: 0.9562 - val_accuracy: 0.8209\n",
      "Epoch 94/100\n",
      "5/5 [==============================] - 2s 514ms/step - loss: 7.4613e-04 - accuracy: 1.0000 - val_loss: 0.9573 - val_accuracy: 0.8209\n",
      "Epoch 95/100\n",
      "5/5 [==============================] - 2s 496ms/step - loss: 7.3238e-04 - accuracy: 1.0000 - val_loss: 0.9588 - val_accuracy: 0.8209\n",
      "Epoch 96/100\n",
      "5/5 [==============================] - 2s 497ms/step - loss: 7.2028e-04 - accuracy: 1.0000 - val_loss: 0.9597 - val_accuracy: 0.8209\n",
      "Epoch 97/100\n",
      "5/5 [==============================] - 2s 459ms/step - loss: 7.0696e-04 - accuracy: 1.0000 - val_loss: 0.9609 - val_accuracy: 0.8209\n",
      "Epoch 98/100\n",
      "5/5 [==============================] - 2s 482ms/step - loss: 6.9513e-04 - accuracy: 1.0000 - val_loss: 0.9620 - val_accuracy: 0.8209\n",
      "Epoch 99/100\n",
      "5/5 [==============================] - 2s 470ms/step - loss: 6.8393e-04 - accuracy: 1.0000 - val_loss: 0.9630 - val_accuracy: 0.8209\n",
      "Epoch 100/100\n",
      "5/5 [==============================] - 3s 535ms/step - loss: 6.7097e-04 - accuracy: 1.0000 - val_loss: 0.9640 - val_accuracy: 0.8209\n"
     ]
    },
    {
     "data": {
      "text/plain": [
       "<keras.callbacks.History at 0x7fe7951219f0>"
      ]
     },
     "execution_count": 19,
     "metadata": {},
     "output_type": "execute_result"
    }
   ],
   "source": [
    "model.fit(train, y_train, epochs=100, validation_data=(X_valid, y_valid))"
   ]
  },
  {
   "cell_type": "code",
   "execution_count": 20,
   "id": "494768fe",
   "metadata": {},
   "outputs": [],
   "source": [
    "\n",
    "model.compile(loss='categorical_crossentropy', optimizer='adam', metrics=['accuracy'])"
   ]
  },
  {
   "cell_type": "code",
   "execution_count": 21,
   "id": "b8d52fec",
   "metadata": {},
   "outputs": [
    {
     "name": "stdout",
     "output_type": "stream",
     "text": [
      "Done!\n"
     ]
    }
   ],
   "source": [
    "count = 0\n",
    "videoFile = \"Accident-1.mp4\"\n",
    "cap = cv2.VideoCapture(videoFile)\n",
    "frameRate = cap.get(5) #frame rate\n",
    "x=1\n",
    "while(cap.isOpened()):\n",
    "    frameId = cap.get(1) #current frame number\n",
    "    ret, frame = cap.read()\n",
    "    if (ret != True):\n",
    "        break\n",
    "    if (frameId % math.floor(frameRate) == 0):\n",
    "        filename =\"test%d.jpg\" % count;count+=1\n",
    "        cv2.imwrite(filename, frame)\n",
    "cap.release()\n",
    "print (\"Done!\")"
   ]
  },
  {
   "cell_type": "code",
   "execution_count": 22,
   "id": "1cf0f0cd",
   "metadata": {},
   "outputs": [],
   "source": [
    "test = pd.read_csv('test.csv')"
   ]
  },
  {
   "cell_type": "code",
   "execution_count": 23,
   "id": "9047ac11",
   "metadata": {},
   "outputs": [],
   "source": [
    "test_image = []\n",
    "for img_name in test.Image_ID:\n",
    "    img = plt.imread('' + img_name)\n",
    "    test_image.append(img)\n",
    "test_img = np.array(test_image)"
   ]
  },
  {
   "cell_type": "code",
   "execution_count": 24,
   "id": "f32558f2",
   "metadata": {},
   "outputs": [],
   "source": [
    "test_image = []\n",
    "for i in range(0,test_img.shape[0]):\n",
    "    a = resize(test_img[i], preserve_range=True, output_shape=(224,224)).astype(int)\n",
    "    test_image.append(a)\n",
    "test_image = np.array(test_image)"
   ]
  },
  {
   "cell_type": "code",
   "execution_count": 25,
   "id": "ff1260b5",
   "metadata": {},
   "outputs": [
    {
     "name": "stdout",
     "output_type": "stream",
     "text": [
      "1/1 [==============================] - 20s 20s/step\n"
     ]
    },
    {
     "data": {
      "text/plain": [
       "(9, 7, 7, 512)"
      ]
     },
     "execution_count": 25,
     "metadata": {},
     "output_type": "execute_result"
    }
   ],
   "source": [
    "# preprocessing the images\n",
    "test_image = preprocess_input(test_image, data_format=None)\n",
    "\n",
    "# extracting features from the images using pretrained model\n",
    "test_image = base_model.predict(test_image)\n",
    "test_image.shape"
   ]
  },
  {
   "cell_type": "code",
   "execution_count": 26,
   "id": "b9f69282",
   "metadata": {},
   "outputs": [],
   "source": [
    "test_image = test_image.reshape(9, 7*7*512)\n",
    "\n",
    "# zero centered images\n",
    "test_image = test_image/test_image.max()"
   ]
  },
  {
   "cell_type": "code",
   "execution_count": 27,
   "id": "721c02ae",
   "metadata": {},
   "outputs": [
    {
     "name": "stdout",
     "output_type": "stream",
     "text": [
      "1/1 [==============================] - 8s 8s/step\n"
     ]
    }
   ],
   "source": [
    "predictions = model.predict(test_image)"
   ]
  },
  {
   "cell_type": "code",
   "execution_count": 28,
   "id": "fb5b165b",
   "metadata": {},
   "outputs": [
    {
     "name": "stdout",
     "output_type": "stream",
     "text": [
      "[[5.8879505e-06 9.9999416e-01]\n",
      " [3.3189068e-04 9.9966812e-01]\n",
      " [2.5760948e-03 9.9742389e-01]\n",
      " [1.2681657e-03 9.9873179e-01]\n",
      " [3.4257630e-03 9.9657428e-01]\n",
      " [5.8087718e-01 4.1912282e-01]\n",
      " [8.3983469e-01 1.6016532e-01]\n",
      " [6.6289109e-01 3.3710888e-01]\n",
      " [8.7880880e-01 1.2119119e-01]]\n"
     ]
    }
   ],
   "source": [
    "print(predictions)"
   ]
  },
  {
   "cell_type": "code",
   "execution_count": 29,
   "id": "1f040ef0",
   "metadata": {
    "scrolled": true
   },
   "outputs": [
    {
     "name": "stdout",
     "output_type": "stream",
     "text": [
      "No Accident\n",
      "No Accident\n",
      "No Accident\n",
      "No Accident\n",
      "No Accident\n",
      "Accident\n",
      "Accident\n",
      "Accident\n",
      "Accident\n"
     ]
    }
   ],
   "source": [
    "for i in range (0,9):\n",
    "    if predictions[i][0]<predictions[i][1]:\n",
    "        print(\"No Accident\")\n",
    "    else:\n",
    "        print(\"Accident\")\n",
    "    "
   ]
  },
  {
   "cell_type": "code",
   "execution_count": 4,
   "id": "e66b91f0",
   "metadata": {},
   "outputs": [
    {
     "ename": "NameError",
     "evalue": "name 'Nominatim' is not defined",
     "output_type": "error",
     "traceback": [
      "\u001b[0;31m---------------------------------------------------------------------------\u001b[0m",
      "\u001b[0;31mNameError\u001b[0m                                 Traceback (most recent call last)",
      "Cell \u001b[0;32mIn[4], line 1\u001b[0m\n\u001b[0;32m----> 1\u001b[0m geoLoc \u001b[39m=\u001b[39m Nominatim(user_agent\u001b[39m=\u001b[39m\u001b[39m\"\u001b[39m\u001b[39mGetLoc\u001b[39m\u001b[39m\"\u001b[39m)\n\u001b[1;32m      2\u001b[0m g \u001b[39m=\u001b[39m geocoder\u001b[39m.\u001b[39mip(\u001b[39m'\u001b[39m\u001b[39mme\u001b[39m\u001b[39m'\u001b[39m)\n\u001b[1;32m      3\u001b[0m locname \u001b[39m=\u001b[39m geoLoc\u001b[39m.\u001b[39mreverse(g\u001b[39m.\u001b[39mlatlng)\n",
      "\u001b[0;31mNameError\u001b[0m: name 'Nominatim' is not defined"
     ]
    }
   ],
   "source": [
    "geoLoc = Nominatim(user_agent=\"GetLoc\")\n",
    "g = geocoder.ip('me')\n",
    "locname = geoLoc.reverse(g.latlng)\n",
    "account_sid ='ACffde3996b90ce28d94b2f451ca8c3ea3'\n",
    "auth_token ='23c1cf93e4ed94e8aefa76daecd8d5bd'\n",
    "client = Client(account_sid, auth_token)"
   ]
  },
  {
   "cell_type": "code",
   "execution_count": 3,
   "id": "9fcaa4b5",
   "metadata": {},
   "outputs": [],
   "source": [
    "from selenium import webdriver\n",
    "from time import sleep\n",
    "from selenium.webdriver.chrome.service import Service\n",
    "import os\n",
    "from selenium.webdriver.common.action_chains import ActionChains\n",
    "from selenium.webdriver.common.keys import Keys\n",
    "from selenium.webdriver.support import expected_conditions as EC\n",
    "from selenium.webdriver.common.by import By\n",
    "from selenium.webdriver.support.wait import WebDriverWait"
   ]
  },
  {
   "cell_type": "code",
   "execution_count": 2,
   "id": "80b3e4f1",
   "metadata": {},
   "outputs": [
    {
     "ename": "NameError",
     "evalue": "name 'cv2' is not defined",
     "output_type": "error",
     "traceback": [
      "\u001b[0;31m---------------------------------------------------------------------------\u001b[0m",
      "\u001b[0;31mNameError\u001b[0m                                 Traceback (most recent call last)",
      "Cell \u001b[0;32mIn[2], line 1\u001b[0m\n\u001b[0;32m----> 1\u001b[0m cap \u001b[39m=\u001b[39m cv2\u001b[39m.\u001b[39mVideoCapture(\u001b[39m'\u001b[39m\u001b[39mAccident-1.mp4\u001b[39m\u001b[39m'\u001b[39m)\n\u001b[1;32m      2\u001b[0m i\u001b[39m=\u001b[39m\u001b[39m0\u001b[39m\n\u001b[1;32m      3\u001b[0m flag\u001b[39m=\u001b[39m\u001b[39m0\u001b[39m\n",
      "\u001b[0;31mNameError\u001b[0m: name 'cv2' is not defined"
     ]
    }
   ],
   "source": [
    "cap = cv2.VideoCapture('Accident-1.mp4')\n",
    "i=0\n",
    "flag=0\n",
    "while(True):\n",
    "    ret,frame=cap.read()\n",
    "    if ret==True:\n",
    "        if predictions[int(i/15)%9][0]<predictions[int(i/15)%9][1]:\n",
    "            predict=\"No Accident\"\n",
    "        else:\n",
    "            predict=\"Accident\"\n",
    "            flag=1\n",
    "        font = cv2.FONT_HERSHEY_SIMPLEX\n",
    "        cv2.putText(frame,\n",
    "                predict,\n",
    "                (50, 50),\n",
    "                font, 1,\n",
    "                (0, 255, 255),\n",
    "                3,\n",
    "                cv2.LINE_4)\n",
    "        cv2.imshow('Frame', frame)\n",
    "        i=i+1\n",
    "        if cv2.waitKey(1) & 0xFF == ord('q'):\n",
    "            break\n",
    "    else:\n",
    "        break\n",
    "if flag==1:\n",
    "    # os.system(\"gnome-terminal -- google-chrome-stable --remote-debugging-port=9988\")\n",
    "    # sleep(3)\n",
    "\n",
    "    options = webdriver.ChromeOptions()\n",
    "    options.add_experimental_option(\"debuggerAddress\",\"localhost:9988\")\n",
    "    driver = webdriver.Chrome(service=Service(executable_path=\"/home/srihithreddy/Snapbot/chromedriver\"),options=options)\n",
    "    driver.get('')\n",
    "    sleep(5)\n",
    "    wait= WebDriverWait(driver,20)\n",
    "\n",
    "\n"
   ]
  },
  {
   "cell_type": "code",
   "execution_count": null,
   "id": "27a76e04",
   "metadata": {},
   "outputs": [],
   "source": []
  },
  {
   "cell_type": "code",
   "execution_count": null,
   "id": "0d3a6a4f",
   "metadata": {},
   "outputs": [],
   "source": []
  },
  {
   "cell_type": "code",
   "execution_count": null,
   "id": "36aaa0ab",
   "metadata": {},
   "outputs": [],
   "source": []
  },
  {
   "cell_type": "code",
   "execution_count": null,
   "id": "0ab12e9d",
   "metadata": {},
   "outputs": [],
   "source": []
  },
  {
   "cell_type": "code",
   "execution_count": null,
   "id": "38071c34",
   "metadata": {},
   "outputs": [],
   "source": []
  }
 ],
 "metadata": {
  "kernelspec": {
   "display_name": "Python 3",
   "language": "python",
   "name": "python3"
  },
  "language_info": {
   "codemirror_mode": {
    "name": "ipython",
    "version": 3
   },
   "file_extension": ".py",
   "mimetype": "text/x-python",
   "name": "python",
   "nbconvert_exporter": "python",
   "pygments_lexer": "ipython3",
   "version": "3.10.6"
  },
  "vscode": {
   "interpreter": {
    "hash": "31f2aee4e71d21fbe5cf8b01ff0e069b9275f58929596ceb00d14d90e3e16cd6"
   }
  }
 },
 "nbformat": 4,
 "nbformat_minor": 5
}
